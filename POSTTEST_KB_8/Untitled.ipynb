{
 "cells": [
  {
   "cell_type": "markdown",
   "id": "9ecc558a",
   "metadata": {},
   "source": [
    "## POSTTEST 8 ##\n",
    "## Jihan Nur Azizah ##\n",
    "## 20009106081 ##"
   ]
  },
  {
   "cell_type": "markdown",
   "id": "5489af4b",
   "metadata": {},
   "source": [
    "<h5> IMPORT LIBRARY <h5>"
   ]
  },
  {
   "cell_type": "code",
   "execution_count": 30,
   "id": "16de240d",
   "metadata": {},
   "outputs": [],
   "source": [
    "import tensorflow as tf\n",
    "import matplotlib.pyplot as plt\n",
    "import tensorflow.keras.datasets as tfds\n",
    "import numpy as np"
   ]
  },
  {
   "cell_type": "markdown",
   "id": "519f2006",
   "metadata": {},
   "source": [
    "<h5> MEMBACA DATA EMNIST <h5>"
   ]
  },
  {
   "cell_type": "code",
   "execution_count": 31,
   "id": "94cbf369",
   "metadata": {},
   "outputs": [
    {
     "name": "stdout",
     "output_type": "stream",
     "text": [
      "Downloading data from https://storage.googleapis.com/tensorflow/tf-keras-datasets/mnist.npz\n",
      "11490434/11490434 [==============================] - 12s 1us/step\n",
      "panjang x train: 60000 image\n",
      "panjang y train: 60000 image\n",
      "panjang x test: 10000 image\n",
      "panjang y test: 10000 image\n"
     ]
    }
   ],
   "source": [
    "(train_x, train_y), (test_x, test_y) = tfds.mnist.load_data()\n",
    "print(f'panjang x train: {len(train_x)} image',\n",
    "      f'panjang y train: {len(train_y)} image',\n",
    "      f'panjang x test: {len(test_x)} image',\n",
    "      f'panjang y test: {len(test_y)} image',\n",
    "      sep = '\\n'\n",
    "     )"
   ]
  },
  {
   "cell_type": "markdown",
   "id": "3cd6ea4b",
   "metadata": {},
   "source": [
    "<h5> Di sini saya menetapkan jumlah kelas (sesuaikan dengan jumlah kelas yang dimiliki dataset) <h5>"
   ]
  },
  {
   "cell_type": "code",
   "execution_count": 32,
   "id": "afe5b125",
   "metadata": {},
   "outputs": [],
   "source": [
    "num_class = 10\n",
    "train_y = tf.keras.utils.to_categorical(train_y, num_class)\n",
    "test_y = tf.keras.utils.to_categorical(test_y, num_class)"
   ]
  },
  {
   "cell_type": "code",
   "execution_count": 33,
   "id": "a75a2eeb",
   "metadata": {},
   "outputs": [],
   "source": [
    "testing_x = test_x.copy()"
   ]
  },
  {
   "cell_type": "markdown",
   "id": "bb836a3c",
   "metadata": {},
   "source": [
    "<h5> Menampilkan image dari dataset <h5>"
   ]
  },
  {
   "cell_type": "code",
   "execution_count": 35,
   "id": "81898362",
   "metadata": {},
   "outputs": [
    {
     "data": {
      "text/plain": [
       "<matplotlib.image.AxesImage at 0x22056ff25f0>"
      ]
     },
     "execution_count": 35,
     "metadata": {},
     "output_type": "execute_result"
    },
    {
     "data": {
      "image/png": "[encoded data removed]",
      "text/plain": [
       "<Figure size 640x480 with 1 Axes>"
      ]
     },
     "metadata": {},
     "output_type": "display_data"
    }
   ],
   "source": [
    "plt.imshow(train_x[10])"
   ]
  },
  {
   "cell_type": "markdown",
   "id": "9363d03d",
   "metadata": {},
   "source": [
    "<h5> Melakukan Reshaping <h5>"
   ]
  },
  {
   "cell_type": "code",
   "execution_count": 37,
   "id": "5fd91f59",
   "metadata": {},
   "outputs": [],
   "source": [
    "train_x = train_x.reshape(60000, 784)\n",
    "test_x = test_x.reshape(10000, 784)"
   ]
  },
  {
   "cell_type": "code",
   "execution_count": 39,
   "id": "f09c3fee",
   "metadata": {},
   "outputs": [],
   "source": [
    "train_x = train_x.astype('float32')\n",
    "test_x = test_x.astype('float32')"
   ]
  },
  {
   "cell_type": "markdown",
   "id": "db0bbb29",
   "metadata": {},
   "source": [
    "<h5> Membuat model dengan sequential model <h5>"
   ]
  },
  {
   "cell_type": "code",
   "execution_count": 40,
   "id": "bd8b76b3",
   "metadata": {},
   "outputs": [
    {
     "name": "stdout",
     "output_type": "stream",
     "text": [
      "Model: \"sequential\"\n",
      "_________________________________________________________________\n",
      " Layer (type)                Output Shape              Param #   \n",
      "=================================================================\n",
      " dense (Dense)               (None, 32)                25120     \n",
      "                                                                 \n",
      " dense_1 (Dense)             (None, 10)                330       \n",
      "                                                                 \n",
      "=================================================================\n",
      "Total params: 25,450\n",
      "Trainable params: 25,450\n",
      "Non-trainable params: 0\n",
      "_________________________________________________________________\n"
     ]
    }
   ],
   "source": [
    "model = tf.keras.Sequential([\n",
    "    tf.keras.layers.Dense(32, activation = 'relu', input_dim = 784),\n",
    "    tf.keras.layers.Dense(num_class, activation = 'softmax')\n",
    "])\n",
    "model.summary()"
   ]
  },
  {
   "cell_type": "markdown",
   "id": "eba1e5b1",
   "metadata": {},
   "source": [
    "<h5> Mengcompile Model <h5>"
   ]
  },
  {
   "cell_type": "code",
   "execution_count": 41,
   "id": "939dd2fa",
   "metadata": {},
   "outputs": [],
   "source": [
    "model.compile(\n",
    "    optimizer = tf.keras.optimizers.Adam(),\n",
    "    loss = tf.keras.losses.categorical_crossentropy,\n",
    "    metrics = ['accuracy']\n",
    ")"
   ]
  },
  {
   "cell_type": "markdown",
   "id": "2d3726f5",
   "metadata": {},
   "source": [
    "<h5> Training Model <h5>"
   ]
  },
  {
   "cell_type": "code",
   "execution_count": 43,
   "id": "10977e99",
   "metadata": {},
   "outputs": [
    {
     "name": "stdout",
     "output_type": "stream",
     "text": [
      "Epoch 1/5\n",
      "1000/1000 [==============================] - 2s 2ms/step - loss: 0.1462 - accuracy: 0.9574 - val_loss: 0.1417 - val_accuracy: 0.9568\n",
      "Epoch 2/5\n",
      "1000/1000 [==============================] - 2s 2ms/step - loss: 0.1240 - accuracy: 0.9640 - val_loss: 0.1265 - val_accuracy: 0.9626\n",
      "Epoch 3/5\n",
      "1000/1000 [==============================] - 2s 2ms/step - loss: 0.1090 - accuracy: 0.9680 - val_loss: 0.1150 - val_accuracy: 0.9664\n",
      "Epoch 4/5\n",
      "1000/1000 [==============================] - 2s 2ms/step - loss: 0.0977 - accuracy: 0.9722 - val_loss: 0.1108 - val_accuracy: 0.9666\n",
      "Epoch 5/5\n",
      "1000/1000 [==============================] - 2s 2ms/step - loss: 0.0890 - accuracy: 0.9750 - val_loss: 0.1100 - val_accuracy: 0.9673\n"
     ]
    }
   ],
   "source": [
    "history = model.fit(\n",
    "    x = train_x, y= train_y,\n",
    "    validation_data = (test_x, test_y),\n",
    "    epochs = 5,\n",
    "    steps_per_epoch = 1000,\n",
    "    verbose = 1\n",
    ")"
   ]
  },
  {
   "cell_type": "markdown",
   "id": "b5ed6902",
   "metadata": {},
   "source": [
    "<h5> Save Model <h5>"
   ]
  },
  {
   "cell_type": "code",
   "execution_count": 47,
   "id": "b77ea36c",
   "metadata": {},
   "outputs": [],
   "source": [
    "model.save('model/model1.h5')"
   ]
  },
  {
   "cell_type": "code",
   "execution_count": 48,
   "id": "dd8fb5f6",
   "metadata": {},
   "outputs": [],
   "source": [
    "saved_model = tf.keras.models.load_model('model/model1.h5')"
   ]
  }
 ],
 "metadata": {
  "kernelspec": {
   "display_name": "Python 3 (ipykernel)",
   "language": "python",
   "name": "python3"
  },
  "language_info": {
   "codemirror_mode": {
    "name": "ipython",
    "version": 3
   },
   "file_extension": ".py",
   "mimetype": "text/x-python",
   "name": "python",
   "nbconvert_exporter": "python",
   "pygments_lexer": "ipython3",
   "version": "3.10.7"
  }
 },
 "nbformat": 4,
 "nbformat_minor": 5
}
